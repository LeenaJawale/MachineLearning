{
 "cells": [
  {
   "cell_type": "code",
   "execution_count": 91,
   "metadata": {
    "collapsed": true
   },
   "outputs": [],
   "source": [
    "#Import libraries \n",
    "import pandas as pd\n",
    "import matplotlib.pyplot as plt\n",
    "from sklearn.neural_network import MLPClassifier\n",
    "import numpy as np\n",
    "from sklearn.metrics import mean_squared_error, r2_score\n",
    "from sklearn.model_selection import train_test_split\n",
    "from sklearn.metrics import accuracy_score\n",
    "from sklearn import svm, datasets\n",
    "import sklearn\n",
    "%matplotlib inline"
   ]
  },
  {
   "cell_type": "code",
   "execution_count": 92,
   "metadata": {
    "scrolled": false
   },
   "outputs": [
    {
     "name": "stdout",
     "output_type": "stream",
     "text": [
      "     -6.57E-01  7.91E-01  0\n",
      "0      2.12000 -0.000625  1\n",
      "1     -0.90200  0.740000  0\n",
      "2      0.52200  0.231000  0\n",
      "3     -0.12700  0.036100  1\n",
      "4      1.84000  0.587000  1\n",
      "5      1.86000  0.299000  1\n",
      "6      1.84000  0.232000  1\n",
      "7      0.78900 -0.562000  1\n",
      "8      0.20500  0.118000  1\n",
      "9      0.98700  0.193000  0\n",
      "10     0.69600  0.455000  0\n",
      "11    -0.34700  0.947000  0\n",
      "12     1.59000 -0.414000  1\n",
      "13     1.74000 -0.019800  1\n",
      "14     0.79300 -0.321000  1\n",
      "15     0.88100  0.260000  0\n",
      "16     0.17400  0.747000  0\n",
      "17    -0.56300  0.671000  0\n",
      "18     0.30700 -0.263000  1\n",
      "19     0.80000  0.569000  0\n",
      "20     0.44500  0.112000  1\n",
      "21     0.69700  0.521000  0\n",
      "22     0.66200  0.326000  0\n",
      "23     1.52000 -0.479000  1\n",
      "24     1.57000  0.013400  1\n",
      "25     0.70100 -0.547000  1\n",
      "26    -0.24700  0.068000  1\n",
      "27     1.33000 -0.029700  1\n",
      "28     0.27100 -0.260000  1\n",
      "29     0.21400  0.843000  0\n",
      "..         ...       ... ..\n",
      "169   -0.63300  0.864000  0\n",
      "170    0.27600  0.694000  0\n",
      "171    0.95800  0.595000  0\n",
      "172    1.06000  0.276000  0\n",
      "173    0.72600 -0.344000  1\n",
      "174    1.26000 -0.625000  1\n",
      "175    0.73200  0.041900  1\n",
      "176   -0.99200  0.430000  0\n",
      "177    1.92000  0.388000  1\n",
      "178   -1.03000  0.333000  0\n",
      "179    1.07000 -0.373000  1\n",
      "180    0.24000  1.340000  0\n",
      "181   -1.16000  0.304000  0\n",
      "182    0.41500  0.730000  0\n",
      "183   -0.89400 -0.083500  0\n",
      "184    2.07000  0.515000  1\n",
      "185    0.08130  0.046300  1\n",
      "186   -0.32800  1.040000  0\n",
      "187   -0.63000  0.601000  0\n",
      "188   -0.56800  0.423000  0\n",
      "189    0.38000 -0.362000  1\n",
      "190    0.95000  0.187000  0\n",
      "191    0.48700 -0.171000  1\n",
      "192    0.04820 -0.073200  1\n",
      "193    0.41300  0.257000  1\n",
      "194    0.30900 -0.468000  1\n",
      "195    0.10200  1.050000  0\n",
      "196   -0.00204  1.470000  0\n",
      "197   -0.12200  0.622000  1\n",
      "198    0.71900  0.360000  0\n",
      "\n",
      "[199 rows x 3 columns]\n",
      "Index(['-6.57E-01', '7.91E-01', '0'], dtype='object')\n"
     ]
    }
   ],
   "source": [
    "#read data into dataframe\n",
    "data = pd.read_csv('C://Users//VISHAL//PycharmProjects//NeuralNetwork/testdata.csv')\n",
    "print(data)\n",
    "data.head()\n",
    "print(data.keys())"
   ]
  },
  {
   "cell_type": "code",
   "execution_count": 93,
   "metadata": {
    "collapsed": true
   },
   "outputs": [],
   "source": [
    "X = data.iloc[0:200, [0, 1]].values\n",
    "y = data.iloc[0:200, 2].values"
   ]
  },
  {
   "cell_type": "code",
   "execution_count": 94,
   "metadata": {
    "collapsed": true
   },
   "outputs": [],
   "source": [
    "#Split the data into training data and testing data \n",
    "x_train,x_test,y_train,y_test=train_test_split(X,y,test_size=0.20,random_state=10)\n",
    "#print(x_train)"
   ]
  },
  {
   "cell_type": "code",
   "execution_count": 95,
   "metadata": {},
   "outputs": [
    {
     "data": {
      "text/plain": [
       "MLPClassifier(activation='relu', alpha=0.0001, batch_size='auto', beta_1=0.9,\n",
       "       beta_2=0.999, early_stopping=False, epsilon=1e-08,\n",
       "       hidden_layer_sizes=(20, 3), learning_rate='constant',\n",
       "       learning_rate_init=0.1, max_iter=150, momentum=0.9,\n",
       "       nesterovs_momentum=True, power_t=0.5, random_state=1, shuffle=True,\n",
       "       solver='lbfgs', tol=0.0001, validation_fraction=0.1, verbose=10,\n",
       "       warm_start=False)"
      ]
     },
     "execution_count": 95,
     "metadata": {},
     "output_type": "execute_result"
    }
   ],
   "source": [
    "#scikit learn BackPropagation model\n",
    "mlp = MLPClassifier(hidden_layer_sizes=(20, 3), max_iter=150, alpha=1e-4,\n",
    "                    solver='lbfgs', verbose=10, tol=1e-4, random_state=1,\n",
    "                    learning_rate_init=.1)\n",
    "mlp.fit(x_train, np.ravel(y_train))"
   ]
  },
  {
   "cell_type": "code",
   "execution_count": 96,
   "metadata": {},
   "outputs": [
    {
     "name": "stdout",
     "output_type": "stream",
     "text": [
      "Training set score: 0.993711\n",
      "Test set score: 0.950000\n"
     ]
    }
   ],
   "source": [
    "print(\"Training set score: %f\" % mlp.score(x_train, y_train))\n",
    "print(\"Test set score: %f\" % mlp.score(x_test, y_test))"
   ]
  },
  {
   "cell_type": "code",
   "execution_count": 97,
   "metadata": {},
   "outputs": [
    {
     "name": "stdout",
     "output_type": "stream",
     "text": [
      "0.95\n"
     ]
    }
   ],
   "source": [
    "#Prdict the flower class \n",
    "predictions = mlp.predict(x_test)\n",
    "predictions\n",
    "#Accuracy score for the prediction \n",
    "print(accuracy_score(y_test,predictions))"
   ]
  },
  {
   "cell_type": "code",
   "execution_count": 98,
   "metadata": {
    "collapsed": true
   },
   "outputs": [],
   "source": [
    "from matplotlib.colors import ListedColormap\n",
    "def plot_decision_regions(X, y, classifier, resolution=0.02):\n",
    "   # setup marker generator and color map\n",
    "   markers = ('s', 'x', 'o', '^', 'v')\n",
    "   colors = ('red', 'blue', 'lightgreen', 'gray', 'cyan')\n",
    "   cmap = ListedColormap(colors[:len(np.unique(y))])\n",
    "\n",
    "   # plot the decision surface\n",
    "  # print(X[:,0])\n",
    "   x1_min, x1_max = X[:,  0].min() - 1, X[:, 0].max() + 1\n",
    "  \n",
    "   x2_min, x2_max = X[:, 1].min() - 1, X[:, 1].max() + 1\n",
    "   xx1, xx2 = np.meshgrid(np.arange(x1_min, x1_max, resolution), np.arange(x2_min, x2_max, resolution))\n",
    "  # print(xx1)\n",
    "   #print(xx1)\n",
    "   #print((np.array([xx1.ravel(), xx2.ravel()]).T))\n",
    "   Z = classifier.predict(np.array([xx1.ravel(), xx2.ravel()]).T)\n",
    "  \n",
    "   Z = Z.reshape(xx1.shape)\n",
    "\n",
    "   plt.contourf(xx1, xx2, Z, alpha=0.4, cmap=cmap)\n",
    "   plt.xlim(xx1.min(), xx1.max())\n",
    "   plt.ylim(xx2.min(), xx2.max())\n",
    "   print(np.unique(y))\n",
    "\n",
    "   # plot class samples\n",
    "   for idx, cl in enumerate(np.unique(y)):\n",
    "      #print(idx)\n",
    "      plt.scatter(x=X[y == cl, 0], y=X[y == cl, 1],\n",
    "      alpha=0.8, c=cmap(idx),\n",
    "      marker=markers[idx], label=cl)\n",
    " "
   ]
  },
  {
   "cell_type": "code",
   "execution_count": 99,
   "metadata": {},
   "outputs": [
    {
     "name": "stdout",
     "output_type": "stream",
     "text": [
      "[0 1]\n"
     ]
    },
    {
     "data": {
      "image/png": "[encoded data removed]",
      "text/plain": [
       "<matplotlib.figure.Figure at 0x10b2b80cfd0>"
      ]
     },
     "metadata": {},
     "output_type": "display_data"
    }
   ],
   "source": [
    "plot_decision_regions(X, y, classifier=mlp)\n",
    "plt.xlabel('x1')\n",
    "plt.ylabel('x2')\n",
    "plt.legend(loc='upper left')\n",
    "plt.show() "
   ]
  },
  {
   "cell_type": "code",
   "execution_count": null,
   "metadata": {
    "collapsed": true
   },
   "outputs": [],
   "source": []
  }
 ],
 "metadata": {
  "kernelspec": {
   "display_name": "Python 3",
   "language": "python",
   "name": "python3"
  },
  "language_info": {
   "codemirror_mode": {
    "name": "ipython",
    "version": 3
   },
   "file_extension": ".py",
   "mimetype": "text/x-python",
   "name": "python",
   "nbconvert_exporter": "python",
   "pygments_lexer": "ipython3",
   "version": "3.6.1"
  }
 },
 "nbformat": 4,
 "nbformat_minor": 2
}
