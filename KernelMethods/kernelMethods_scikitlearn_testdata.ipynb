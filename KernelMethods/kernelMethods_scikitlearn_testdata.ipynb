{
 "cells": [
  {
   "cell_type": "code",
   "execution_count": 93,
   "metadata": {
    "collapsed": true
   },
   "outputs": [],
   "source": [
    "#Import libraries \n",
    "import numpy as np\n",
    "%matplotlib inline\n",
    "from sklearn.svm import SVR\n",
    "from sklearn.model_selection import GridSearchCV\n",
    "from sklearn.model_selection import learning_curve\n",
    "from sklearn.kernel_ridge import KernelRidge\n",
    "import matplotlib.pyplot as plt\n",
    "import pandas as pd\n",
    "from sklearn.model_selection import train_test_split\n",
    "from sklearn.metrics import mean_squared_error, r2_score"
   ]
  },
  {
   "cell_type": "code",
   "execution_count": 94,
   "metadata": {},
   "outputs": [
    {
     "name": "stdout",
     "output_type": "stream",
     "text": [
      "Index(['x', 'y'], dtype='object')\n"
     ]
    }
   ],
   "source": [
    "#read data into dataframe\n",
    "data = pd.read_csv(\"C://Users//VISHAL//PycharmProjects//KernelMethods/testdata.csv\")\n",
    "\n",
    "# Selecting specific columns to implement\n",
    "df_x=pd.DataFrame(data,columns=(['x']))\n",
    "df_y=pd.DataFrame(data,columns=(['y']))\n",
    "data.head()\n",
    "print(data.keys())"
   ]
  },
  {
   "cell_type": "code",
   "execution_count": 95,
   "metadata": {
    "collapsed": true
   },
   "outputs": [],
   "source": [
    "#Split the data into training and testing data\n",
    "x_train=df_x[:100]\n",
    "y_train=df_y[:100]\n",
    "x_test=df_x[100:]\n",
    "y_test=df_y[100:]"
   ]
  },
  {
   "cell_type": "code",
   "execution_count": 96,
   "metadata": {},
   "outputs": [
    {
     "name": "stdout",
     "output_type": "stream",
     "text": [
      "GridSearchCV(cv=5, error_score='raise',\n",
      "       estimator=KernelRidge(alpha=1, coef0=1, degree=3, gamma=0.1, kernel='linear',\n",
      "      kernel_params=None),\n",
      "       fit_params={}, iid=True, n_jobs=1,\n",
      "       param_grid={'gamma': [1e-05, 0.0001, 0.001, 0.01, 0.1, 1, 10, 100, 1000], 'coef0': [1e-05, 0.0001, 0.001, 0.01, 0.1, 1, 2, 3, 4, 5, 6, 7, 8, 9, 10]},\n",
      "       pre_dispatch='2*n_jobs', refit=True, return_train_score=True,\n",
      "       scoring=None, verbose=0)\n",
      "Coef: 1e-05\n",
      "Gamma: 1e-05\n",
      "Score: 0.0143684193522\n"
     ]
    }
   ],
   "source": [
    "#Sci-kit learn KernelRidge Regression model with linear kernel method\n",
    "kr = GridSearchCV(KernelRidge(kernel='linear', gamma=0.1), cv=5,\n",
    "                   param_grid={'gamma':[0.00001, 0.0001, 0.001, 0.01, 0.1, 1, 10, 100, 1000],         \n",
    "                                'coef0': [0.00001, 0.0001, 0.001, 0.01, 0.1, 1,2,3,4,5,6,7,8,9,10]})\n",
    "print(kr)\n",
    "\n",
    "kr.fit(x_train,y_train)\n",
    "# Predict the values\n",
    "y_kr = kr.predict(x_test)\n",
    "\n",
    "print('Coef:', kr.best_estimator_.coef0)\n",
    "print('Gamma:', kr.best_estimator_.gamma)\n",
    "print(\"Score: \" + str(kr.score(x_test, y_test)))"
   ]
  },
  {
   "cell_type": "code",
   "execution_count": 97,
   "metadata": {},
   "outputs": [
    {
     "data": {
      "text/plain": [
       "<matplotlib.figure.Figure at 0x1ac980bb438>"
      ]
     },
     "execution_count": 97,
     "metadata": {},
     "output_type": "execute_result"
    },
    {
     "data": {
      "image/png": "[encoded data removed]",
      "text/plain": [
       "<matplotlib.figure.Figure at 0x1ac9842d198>"
      ]
     },
     "metadata": {},
     "output_type": "display_data"
    },
    {
     "data": {
      "text/plain": [
       "<matplotlib.figure.Figure at 0x1ac980bb438>"
      ]
     },
     "metadata": {},
     "output_type": "display_data"
    }
   ],
   "source": [
    "#Plot the graph for linear kernel\n",
    "plt.scatter(x_train, y_train, c='r', label='data', zorder=1,\n",
    "            edgecolors=(0, 0, 0))\n",
    "\n",
    "plt.plot(x_test, y_kr, c='g',\n",
    "         label='KRR' )\n",
    "plt.xlabel('data')\n",
    "plt.ylabel('target')\n",
    "plt.title('Linear Kernel Ridge Regression')\n",
    "plt.legend()\n",
    "\n",
    "plt.figure()"
   ]
  },
  {
   "cell_type": "code",
   "execution_count": 98,
   "metadata": {},
   "outputs": [
    {
     "name": "stdout",
     "output_type": "stream",
     "text": [
      "GridSearchCV(cv=5, error_score='raise',\n",
      "       estimator=KernelRidge(alpha=1, coef0=1, degree=3, gamma=0.1, kernel='polynomial',\n",
      "      kernel_params=None),\n",
      "       fit_params={}, iid=True, n_jobs=1,\n",
      "       param_grid={'gamma': [1e-05, 0.0001, 0.001, 0.01, 0.1, 1, 10, 100, 1000], 'coef0': [1e-05, 0.0001, 0.001, 0.01, 0.1, 1, 2, 3, 4, 5, 6, 7, 8, 9, 10]},\n",
      "       pre_dispatch='2*n_jobs', refit=True, return_train_score=True,\n",
      "       scoring=None, verbose=0)\n",
      "Coef: 1\n",
      "Gamma: 1000\n",
      "Score: 0.990253812975\n"
     ]
    }
   ],
   "source": [
    "#Sci-kit learn KernelRidge Regression model with polynomial kernel method\n",
    "kr = GridSearchCV(KernelRidge(kernel='polynomial', gamma=0.1), cv=5,\n",
    "                 param_grid={'gamma':[0.00001, 0.0001, 0.001, 0.01, 0.1, 1, 10, 100, 1000],         \n",
    "              'coef0': [0.00001, 0.0001, 0.001, 0.01, 0.1, 1,2,3,4,5,6,7,8,9,10]})\n",
    "print(kr)\n",
    "kr.fit(x_train,y_train)\n",
    "\n",
    "y_kr = kr.predict(x_test)\n",
    "\n",
    "print('Coef:', kr.best_estimator_.coef0)\n",
    "print('Gamma:', kr.best_estimator_.gamma)\n",
    "print(\"Score: \" + str(kr.score(x_test, y_test)))"
   ]
  },
  {
   "cell_type": "code",
   "execution_count": 99,
   "metadata": {},
   "outputs": [
    {
     "data": {
      "text/plain": [
       "<matplotlib.figure.Figure at 0x1ac982db940>"
      ]
     },
     "execution_count": 99,
     "metadata": {},
     "output_type": "execute_result"
    },
    {
     "data": {
      "image/png": "[encoded data removed]",
      "text/plain": [
       "<matplotlib.figure.Figure at 0x1ac98131780>"
      ]
     },
     "metadata": {},
     "output_type": "display_data"
    },
    {
     "data": {
      "text/plain": [
       "<matplotlib.figure.Figure at 0x1ac982db940>"
      ]
     },
     "metadata": {},
     "output_type": "display_data"
    }
   ],
   "source": [
    "#Plot the graph for Polynomial Kernel\n",
    "plt.scatter(x_train, y_train, c='r', label='data', zorder=1,\n",
    "            edgecolors=(0, 0, 0))\n",
    "\n",
    "plt.plot(x_test, y_kr, c='g',\n",
    "         label='KRR' )\n",
    "plt.xlabel('data')\n",
    "plt.ylabel('target')\n",
    "plt.title('Polynomial Kernel Ridge Regression')\n",
    "plt.legend()\n",
    "\n",
    "plt.figure()"
   ]
  },
  {
   "cell_type": "code",
   "execution_count": 100,
   "metadata": {},
   "outputs": [
    {
     "name": "stdout",
     "output_type": "stream",
     "text": [
      "GridSearchCV(cv=5, error_score='raise',\n",
      "       estimator=KernelRidge(alpha=1, coef0=1, degree=3, gamma=0.1, kernel='rbf',\n",
      "      kernel_params=None),\n",
      "       fit_params={}, iid=True, n_jobs=1,\n",
      "       param_grid={'gamma': [1e-05, 0.0001, 0.001, 0.01, 0.1, 1, 10, 100, 1000], 'coef0': [1e-05, 0.0001, 0.001, 0.01, 0.1, 1, 2, 3, 4, 5, 6, 7, 8, 9, 10]},\n",
      "       pre_dispatch='2*n_jobs', refit=True, return_train_score=True,\n",
      "       scoring=None, verbose=0)\n",
      "Coef: 1e-05\n",
      "Gamma: 1\n",
      "Score: 0.994740684709\n"
     ]
    }
   ],
   "source": [
    "#Sci-kit learn KernelRidge Regression model with Gaussian kernel method\n",
    "kr = GridSearchCV(KernelRidge(kernel='rbf', gamma=0.1), cv=5,\n",
    "                 param_grid={'gamma':[0.00001, 0.0001, 0.001, 0.01, 0.1, 1, 10, 100, 1000],         \n",
    "              'coef0': [0.00001, 0.0001, 0.001, 0.01, 0.1, 1,2,3,4,5,6,7,8,9,10]})\n",
    "print(kr)\n",
    "kr.fit(x_train, y_train)\n",
    "\n",
    "y_kr = kr.predict(x_test)\n",
    "print('Coef:', kr.best_estimator_.coef0)\n",
    "print('Gamma:', kr.best_estimator_.gamma)\n",
    "print(\"Score: \" + str(kr.score(x_test, y_test)))"
   ]
  },
  {
   "cell_type": "code",
   "execution_count": 101,
   "metadata": {},
   "outputs": [
    {
     "data": {
      "text/plain": [
       "<matplotlib.figure.Figure at 0x1ac981d69b0>"
      ]
     },
     "execution_count": 101,
     "metadata": {},
     "output_type": "execute_result"
    },
    {
     "data": {
      "image/png": "[encoded data removed]",
      "text/plain": [
       "<matplotlib.figure.Figure at 0x1ac98146b38>"
      ]
     },
     "metadata": {},
     "output_type": "display_data"
    },
    {
     "data": {
      "text/plain": [
       "<matplotlib.figure.Figure at 0x1ac981d69b0>"
      ]
     },
     "metadata": {},
     "output_type": "display_data"
    }
   ],
   "source": [
    "#Plot the graph for Gaussian Kernel\n",
    "plt.scatter(x_train, y_train, c='r', label='data', zorder=1,\n",
    "            edgecolors=(0, 0, 0))\n",
    "\n",
    "plt.plot(x_test, y_kr, c='g',\n",
    "         label='KRR' )\n",
    "plt.xlabel('data')\n",
    "plt.ylabel('target')\n",
    "plt.title('Guassian Kernel Ridge Regression')\n",
    "plt.legend()\n",
    "plt.figure()"
   ]
  },
  {
   "cell_type": "code",
   "execution_count": null,
   "metadata": {
    "collapsed": true
   },
   "outputs": [],
   "source": []
  }
 ],
 "metadata": {
  "kernelspec": {
   "display_name": "Python 3",
   "language": "python",
   "name": "python3"
  },
  "language_info": {
   "codemirror_mode": {
    "name": "ipython",
    "version": 3
   },
   "file_extension": ".py",
   "mimetype": "text/x-python",
   "name": "python",
   "nbconvert_exporter": "python",
   "pygments_lexer": "ipython3",
   "version": "3.6.1"
  }
 },
 "nbformat": 4,
 "nbformat_minor": 2
}
